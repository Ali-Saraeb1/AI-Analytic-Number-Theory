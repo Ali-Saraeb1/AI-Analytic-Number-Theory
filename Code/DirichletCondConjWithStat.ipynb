{
 "cells": [
  {
   "cell_type": "code",
   "execution_count": null,
   "id": "41179b2d",
   "metadata": {},
   "outputs": [],
   "source": [
    "#This code is used to emperically verify the analytic number theory conjecture\n",
    "#This code uses statistical properties and thus succeeds to achieve high accuracy. Accuracy here: 1.0"
   ]
  },
  {
   "cell_type": "code",
   "execution_count": null,
   "id": "94bf56d2",
   "metadata": {},
   "outputs": [],
   "source": [
    "import os\n",
    "import math\n",
    "import numpy as np\n",
    "import pandas as pd\n",
    "import tensorflow as tf\n",
    "from sklearn.ensemble import RandomForestClassifier\n",
    "from sklearn.linear_model import LogisticRegression\n",
    "from tensorflow.keras.optimizers import Adam\n",
    "from tensorflow.keras.layers  import Dense, BatchNormalization, Activation\n",
    "from sklearn.metrics  import accuracy_score\n",
    "from sklearn.preprocessing import LabelEncoder, StandardScaler\n",
    "from tensorflow.keras.callbacks  import EarlyStopping\n",
    "from tensorflow.keras.models   import Sequential"
   ]
  },
  {
   "cell_type": "code",
   "execution_count": null,
   "id": "59871597",
   "metadata": {},
   "outputs": [],
   "source": [
    "train_file = '/content/drive/MyDrive/Dirichlet Mod Conh/zeros_train.csv' #change this to use\n",
    "test_file  = '/content/drive/MyDrive/Dirichlet Mod Conh/zeros_test.csv' #change this to use\n",
    "nb_of_zeros=25\n",
    "cols = ['y'] + [f'zero_{i+1}' for i in range(nb_of_zeros)] # 25 is the number of zeros per line"
   ]
  },
  {
   "cell_type": "code",
   "execution_count": null,
   "id": "56dc7708",
   "metadata": {},
   "outputs": [],
   "source": [
    "def load_data(t_path):\n",
    "    t_data = []\n",
    "    with open(t_path) as f:\n",
    "        for line in f:\n",
    "            label, zeros = line.split(':')\n",
    "            y = int(label)\n",
    "            zeros = [float(zero) for zero in zeros.split(',') if zero.strip()]\n",
    "            t_data.append([y] + zeros)\n",
    "    return pd.DataFrame(t_data, columns=cols)\n",
    "\n",
    "train  = load_data(train_file)\n",
    "test   = load_data(test_file)"
   ]
  },
  {
   "cell_type": "code",
   "execution_count": null,
   "id": "7dd6d6b4",
   "metadata": {},
   "outputs": [],
   "source": [
    "def construct_zero_features(df):  \n",
    "    rows = [] \n",
    "    for i, r in df.iterrows():  \n",
    "        zeros25= r[1:].values  # the 25 zeros\n",
    "\n",
    "        differences = np.diff(zeros25)  \n",
    "        # average, variance, average spacing, spacing variance, second-difference mean, and average squared spacing\n",
    "        stats = [ np.mean(zeros25), np.var(zeros25), np.mean(differences), np.mean(differences), np.var(differences), np.mean(np.diff(differences)), np.mean(differences**2) ]\n",
    "\n",
    "        # Mean absolute difference over every pair of non-zeros \n",
    "        mean_absolute_difference = np.mean(np.abs(np.subtract.outer(zeros25, zeros25))) \n",
    "\n",
    "        # the matrix of zeros convolved with an averaging filter of size 3x3 (i.e filter= 1/3 ones(3x3))\n",
    "        filter_averaging= np.convolve(zeros25, np.ones(3) / 3, mode='valid') \n",
    "        mean_filer_averaging = np.mean(filter_averaging) \n",
    "\n",
    "        # append engineered features\n",
    "        rows.append(list(zeros25) + stats + [mean_absolute_difference, mean_filer_averaging]) \n",
    "\n",
    "    features = list(df.columns[1:]) + [\n",
    "        'mean_zero', 'var_zero', 'skew_zero', 'mean_diff', 'var_diff',\n",
    "        'skew_diff', 'kurt_diff', \n",
    "        'mean_pairwise_diff', 'mean_moving_avg'\n",
    "    ]\n",
    "    output = pd.DataFrame(rows, columns=features)  \n",
    "    output['y'] = df['y'].values  \n",
    "    return output\n"
   ]
  },
  {
   "cell_type": "code",
   "execution_count": null,
   "id": "726a6773",
   "metadata": {},
   "outputs": [],
   "source": [
    "#to ensure result is independent of how the labels are ordered in datasets we shuffle them\n",
    "\n",
    "df_train = construct_zero_features(train)\n",
    "df_test  = construct_zero_features(test)\n",
    "\n",
    "df_train = df_train.sample(frac=1, random_state=42).reset_index(drop=True)\n",
    "df_test  = df_test.sample(frac=1, random_state=42).reset_index(drop=True)\n",
    "\n",
    "y_train = df_train.pop('y').values\n",
    "X_train = df_train.values\n",
    "y_test  = df_test.pop('y').values\n",
    "X_test  = df_test.values"
   ]
  },
  {
   "cell_type": "code",
   "execution_count": null,
   "id": "c8b24b5f",
   "metadata": {},
   "outputs": [],
   "source": [
    "#standardize and ecoding\n",
    "scaler   = StandardScaler()\n",
    "X_train_scaler = scaler.fit_transform(X_train)\n",
    "X_test_scaler  = scaler.transform(X_test)\n",
    "\n",
    "label_ecode = LabelEncoder()\n",
    "y_train_encode = label_ecode.fit_transform(y_train)\n",
    "y_test_encode  = label_ecode.transform(y_test)"
   ]
  },
  {
   "cell_type": "code",
   "execution_count": null,
   "id": "6a73c7c3",
   "metadata": {},
   "outputs": [],
   "source": [
    "random_forest_model = RandomForestClassifier(n_estimators=200, random_state=42, class_weight='balanced')\n",
    "random_forest_model.fit(X_train_scaler, y_train_encode)\n"
   ]
  },
  {
   "cell_type": "code",
   "execution_count": null,
   "id": "2c85bcdc",
   "metadata": {},
   "outputs": [],
   "source": [
    "random_forest_test_pred  = random_forest_model.predict_proba(X_test_scaler)\n",
    "\n",
    "random_forest_test_pred_labels = label_ecode.inverse_transform(random_forest_test_pred)\n",
    "accuracy = accuracy_score(y_test, random_forest_test_pred_labels)"
   ]
  },
  {
   "cell_type": "code",
   "execution_count": null,
   "id": "ff9d8cbc",
   "metadata": {},
   "outputs": [],
   "source": [
    "print(f\"Test accuracy: {accuracy:.4f}\")\n",
    "print(\"y_test\")\n",
    "print(y_test)\n",
    "print(\"y_pred\")\n",
    "print(random_forest_test_pred_labels)"
   ]
  }
 ],
 "metadata": {
  "language_info": {
   "name": "python"
  }
 },
 "nbformat": 4,
 "nbformat_minor": 5
}
