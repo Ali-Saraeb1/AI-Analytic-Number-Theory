{
 "cells": [
  {
   "cell_type": "code",
   "execution_count": null,
   "id": "114a943e",
   "metadata": {},
   "outputs": [],
   "source": [
    "#This code trains a random forest classifier and reflects the experiment carried out in Part II of the paper (appendix B.1). \n",
    "#This code uses no statistical properties and thus fails to achieve high accuracy. Accuracy here: 0.619"
   ]
  },
  {
   "cell_type": "code",
   "execution_count": null,
   "id": "9703399c",
   "metadata": {},
   "outputs": [],
   "source": [
    "import os\n",
    "import numpy as np\n",
    "import pandas as pd\n",
    "import tensorflow as tf\n",
    "from sklearn.ensemble import RandomForestClassifier\n",
    "from sklearn.linear_model import LogisticRegression\n",
    "from tensorflow.keras.optimizers import Adam\n",
    "from tensorflow.keras.layers  import Dense, BatchNormalization, Activation\n",
    "from sklearn.metrics  import accuracy_score\n",
    "from sklearn.preprocessing import LabelEncoder, StandardScaler\n",
    "from tensorflow.keras.callbacks  import EarlyStopping\n",
    "from tensorflow.keras.models   import Sequential"
   ]
  },
  {
   "cell_type": "code",
   "execution_count": null,
   "id": "b66e088e",
   "metadata": {},
   "outputs": [],
   "source": [
    "train_file = '/content/drive/MyDrive/Dirichlet Mod Conh/zeros_train.csv' #change this to use\n",
    "test_file  = '/content/drive/MyDrive/Dirichlet Mod Conh/zeros_test.csv' #change this to use\n",
    "nb_of_zeros=25\n",
    "cols = ['y'] + [f'zero_{i+1}' for i in range(nb_of_zeros)] # 25 is the number of zeros per line"
   ]
  },
  {
   "cell_type": "code",
   "execution_count": null,
   "id": "a5f3957f",
   "metadata": {},
   "outputs": [],
   "source": [
    "def load_data(t_path):\n",
    "    t_data = []\n",
    "    with open(t_path) as f:\n",
    "        for line in f:\n",
    "            label, zeros = line.split(':')\n",
    "            y = int(label)\n",
    "            zeros = [float(zero) for zero in zeros.split(',') if zero.strip()]\n",
    "            t_data.append([y] + zeros)\n",
    "    return pd.DataFrame(t_data, columns=cols)\n",
    "\n",
    "train  = load_data(train_file)\n",
    "test   = load_data(test_file)"
   ]
  },
  {
   "cell_type": "code",
   "execution_count": null,
   "id": "39605580",
   "metadata": {},
   "outputs": [],
   "source": [
    "X_train = train.iloc[:,1:].values\n",
    "y_train = train['y'].values\n",
    "X_test  = test .iloc[:,1:].values\n",
    "y_test  = test ['y'].values"
   ]
  },
  {
   "cell_type": "code",
   "execution_count": null,
   "id": "963e7151",
   "metadata": {},
   "outputs": [],
   "source": [
    "#to ensure result is independent of how the labels are ordered in datasets we shuffle them\n",
    "\n",
    "rand= np.random.RandomState(42)\n",
    "permutation1 = rand.permutation(len(y_train))\n",
    "X_train, y_train = X_train[permutation1], y_train[permutation1]\n",
    "permutation2 = rand.permutation(len(y_test))\n",
    "X_test,  y_test  = X_test[permutation2],  y_test[permutation2]"
   ]
  },
  {
   "cell_type": "code",
   "execution_count": null,
   "id": "b350bbe0",
   "metadata": {},
   "outputs": [],
   "source": [
    "#standardize and ecoding\n",
    "scaler   = StandardScaler()\n",
    "X_train_scaler = scaler.fit_transform(X_train)\n",
    "X_test_scaler  = scaler.transform(X_test)\n",
    "\n",
    "label_ecode = LabelEncoder()\n",
    "y_train_encode = label_ecode.fit_transform(y_train)\n",
    "y_test_encode  = label_ecode.transform(y_test)"
   ]
  },
  {
   "cell_type": "code",
   "execution_count": null,
   "id": "1ee7adad",
   "metadata": {},
   "outputs": [],
   "source": [
    "random_forest_model = RandomForestClassifier(n_estimators=200, random_state=42, class_weight='balanced')\n",
    "random_forest_model.fit(X_train_scaler, y_train_encode)\n"
   ]
  },
  {
   "cell_type": "code",
   "execution_count": null,
   "id": "3a1cb922",
   "metadata": {},
   "outputs": [],
   "source": [
    "random_forest_test_pred  = random_forest_model.predict_proba(X_test_scaler)\n",
    "random_forest_test_pred_labels = label_ecode.inverse_transform(random_forest_test_pred)\n",
    "accuracy = accuracy_score(y_test, random_forest_test_pred_labels)"
   ]
  },
  {
   "cell_type": "code",
   "execution_count": null,
   "id": "57ed9068",
   "metadata": {},
   "outputs": [],
   "source": [
    "print(f\"Test accuracy: {accuracy:.4f}\")\n",
    "print(\"y_test\")\n",
    "print(y_test)\n",
    "print(\"y_pred\")\n",
    "print(random_forest_test_pred_labels)"
   ]
  }
 ],
 "metadata": {
  "language_info": {
   "name": "python"
  }
 },
 "nbformat": 4,
 "nbformat_minor": 5
}
